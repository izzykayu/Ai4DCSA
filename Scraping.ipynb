{
 "cells": [
  {
   "cell_type": "code",
   "execution_count": 2,
   "id": "fb411c85-a58f-4834-8323-6b9107882c35",
   "metadata": {},
   "outputs": [],
   "source": [
    "! pip install fitz\n",
    "import re\n",
    "import requests\n",
    "from bs4 import BeautifulSoup\n",
    "import os\n",
    "from tqdm.notebook import tqdm\n"
   ]
  },
  {
   "cell_type": "code",
   "execution_count": 2,
   "id": "423b1833-f8d3-4171-9206-656fb7d15429",
   "metadata": {},
   "outputs": [],
   "source": [
    "dir_path = 'ISCR_decisions/'\n",
    "if not os.path.exists(dir_path):\n",
    "    os.mkdir(dir_path)"
   ]
  },
  {
   "cell_type": "code",
   "execution_count": 3,
   "id": "a5915f91-9e76-4863-856f-4c1ea0be11e4",
   "metadata": {},
   "outputs": [],
   "source": [
    "page = requests.get(\"https://doha.ogc.osd.mil\")\n",
    "soup = BeautifulSoup(page.content, 'html.parser')"
   ]
  },
  {
   "cell_type": "code",
   "execution_count": 4,
   "id": "ed1318ea-3599-46f2-8525-cb32239118ff",
   "metadata": {},
   "outputs": [],
   "source": [
    "hrefs = soup.find_all('a', href = re.compile(r'.*/ISCR-Hearing-Decisions\\/\\d+-ISCR-Hearing-Decisions'))"
   ]
  },
  {
   "cell_type": "code",
   "execution_count": 5,
   "id": "f9760dd7-22d6-4373-80ba-857b5d1c7274",
   "metadata": {},
   "outputs": [
    {
     "data": {
      "application/vnd.jupyter.widget-view+json": {
       "model_id": "d571c5d7fee941359268db7c3900bac1",
       "version_major": 2,
       "version_minor": 0
      },
      "text/plain": [
       "  0%|          | 0/253 [00:00<?, ?it/s]"
      ]
     },
     "metadata": {},
     "output_type": "display_data"
    },
    {
     "data": {
      "application/vnd.jupyter.widget-view+json": {
       "model_id": "e3f0def1b8254acfa8b68728b63ca91e",
       "version_major": 2,
       "version_minor": 0
      },
      "text/plain": [
       "  0%|          | 0/1242 [00:00<?, ?it/s]"
      ]
     },
     "metadata": {},
     "output_type": "display_data"
    },
    {
     "data": {
      "application/vnd.jupyter.widget-view+json": {
       "model_id": "c827a5645a7d4658951cb2ce9da46464",
       "version_major": 2,
       "version_minor": 0
      },
      "text/plain": [
       "  0%|          | 0/448 [00:00<?, ?it/s]"
      ]
     },
     "metadata": {},
     "output_type": "display_data"
    },
    {
     "data": {
      "application/vnd.jupyter.widget-view+json": {
       "model_id": "f9f662a04db14912982653d16aaee474",
       "version_major": 2,
       "version_minor": 0
      },
      "text/plain": [
       "  0%|          | 0/1163 [00:00<?, ?it/s]"
      ]
     },
     "metadata": {},
     "output_type": "display_data"
    }
   ],
   "source": [
    "# pulls all PDFs and saves to folder {dir_path}\n",
    "\n",
    "for h in hrefs: # looping through each year's page\n",
    "    url = h.attrs['href']\n",
    "    res = requests.get(url)\n",
    "    pdfsoup = BeautifulSoup(res.content, 'html.parser'),\n",
    "    \n",
    "    # grab pdfs in this year's page\n",
    "    pdflinks = pdfsoup.find_all('a', href=re.compile(r'.*\\/FileId\\/\\d+.*'))\n",
    "    \n",
    "    # for each case pdf, download the pdf file\n",
    "    for link in tqdm(pdflinks):\n",
    "        link_href = link.attrs['href']\n",
    "        link_filename = '_'.join([item for item in link_href.split('/')[1:] if item!='']) + '_case_' + link.span.text\n",
    "        pdf_res = requests.get(link_href)\n",
    "        with open(os.path.join(dir_path, link_filename), 'wb') as f:\n",
    "            f.write(pdf_res.content)\n"
   ]
  }
 ],
 "metadata": {
  "kernelspec": {
   "display_name": "Python 3",
   "language": "python",
   "name": "python3"
  },
  "language_info": {
   "codemirror_mode": {
    "name": "ipython",
    "version": 3
   },
   "file_extension": ".py",
   "mimetype": "text/x-python",
   "name": "python",
   "nbconvert_exporter": "python",
   "pygments_lexer": "ipython3",
   "version": "3.7.7"
  }
 },
 "nbformat": 4,
 "nbformat_minor": 5
}
